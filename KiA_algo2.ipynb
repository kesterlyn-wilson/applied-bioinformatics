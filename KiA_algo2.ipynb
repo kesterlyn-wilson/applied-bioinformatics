{
  "nbformat": 4,
  "nbformat_minor": 0,
  "metadata": {
    "colab": {
      "provenance": [],
      "authorship_tag": "ABX9TyPzWbaX4cK4/L9uTxqOsaCE",
      "include_colab_link": true
    },
    "kernelspec": {
      "name": "python3",
      "display_name": "Python 3"
    },
    "language_info": {
      "name": "python"
    }
  },
  "cells": [
    {
      "cell_type": "markdown",
      "metadata": {
        "id": "view-in-github",
        "colab_type": "text"
      },
      "source": [
        "<a href=\"https://colab.research.google.com/github/kesterlyn-wilson/applied-bioinformatics/blob/main/KiA_algo2.ipynb\" target=\"_parent\"><img src=\"https://colab.research.google.com/assets/colab-badge.svg\" alt=\"Open In Colab\"/></a>"
      ]
    },
    {
      "cell_type": "markdown",
      "source": [
        "# README\n",
        "\n",
        "An internal support toolkit for monitoring and improving  knowledge capture and retrival.\n",
        "\n",
        "------------------------------------------------------------------------------------------------------------------------------------------------------------------------\n",
        "# Requirements (for running in terminal, will transition over to VPN):\n",
        "* Python 3.8+\n",
        "* Libraries: `pandas`, `scikit-learn`, `sentence-transformers`\n",
        "\n",
        "run `pip install -r requirements.txt` in your terminal.\n",
        "\n",
        "------------------------------------------------------------------------------------------------------------------------------------------------------------------------\n",
        "\n",
        "# Module:\n",
        "\n",
        "* `kba_4u`: KBA recommender of existing KBAs for ECES tickets based on context similarity. Intended for knowledge capture.\n",
        "\n",
        "    **Inputs:**\n",
        "  - `tickets.csv` — Jira export\n",
        "  - `kba_index.csv` — title + tags of KBs\n",
        "\n",
        "  **Outputs:**\n",
        "  - Suggested KBA match (>0.2)\n",
        "  - If no high matches, suggested title for new article (coming soon)\n",
        "  - Terminal output (HTML output coming soon)"
      ],
      "metadata": {
        "id": "U_OimazbZmC7"
      }
    },
    {
      "cell_type": "markdown",
      "source": [
        "# Run it"
      ],
      "metadata": {
        "id": "KYeDdXGqbnhI"
      }
    },
    {
      "cell_type": "code",
      "execution_count": null,
      "metadata": {
        "id": "eg7OjVsLZYBa"
      },
      "outputs": [],
      "source": [
        "!pip install sentence-transformers\n",
        "from sentence_transformers import SentenceTransformer\n",
        "from sklearn.metrics.pairwise import cosine_similarity\n",
        "import pandas as pd\n",
        "\n",
        "# Load model\n",
        "model = SentenceTransformer('all-MiniLM-L6-v2')\n",
        "\n",
        "# Load data\n",
        "tickets = pd.read_csv('/content/Resolved Tickets (Jira).csv') #CHANGE\n",
        "kbas = pd.read_csv('/content/kba_index.csv', encoding='latin1') #CHANGE\n",
        "\n",
        "# Prepare and embed KBA texts\n",
        "kba_texts = (\n",
        "    kbas['Title'].fillna('') + ' ' +\n",
        "    kbas['Summary'].fillna('') + ' ' +\n",
        "    kbas['Initial Diagnosis'].fillna('') + ' ' +\n",
        "    kbas['Troubleshooting & Repair'].fillna('')\n",
        ").tolist()\n",
        "kba_vecs = model.encode(kba_texts, convert_to_tensor=True)\n",
        "\n",
        "# Loop through tickets\n",
        "for idx, row in tickets.iterrows():\n",
        "    ticket_text = (\n",
        "        str(row.get('Summary', '')) + ' ' +\n",
        "        str(row.get('Description', '')) + ' ' +\n",
        "        str(row.get('Actions', '')) + ' ' +\n",
        "        str(row.get('Error Message (if applicable)', '')) + ' ' +\n",
        "        str(row.get('SW Version (if applicable)', '')) + ' ' +\n",
        "        str(row.get('Comments', ''))\n",
        "    )\n",
        "\n",
        "    ticket_vec = model.encode([ticket_text], convert_to_tensor=True)\n",
        "\n",
        "    # Compute similarity\n",
        "    sims = cosine_similarity(ticket_vec, kba_vecs)[0]\n",
        "    best_idx = sims.argmax()\n",
        "    best_score = sims[best_idx]\n",
        "\n",
        "    # Always print ticket info\n",
        "    print(f\"\\nTicket: {row['Issue key']} — {row['Summary']}\")\n",
        "\n",
        "    # Threshold check\n",
        "    if best_score > 0.5:\n",
        "        print(f\"Recommended KBA: {kbas.iloc[best_idx]['Title']} (Score: {best_score:.2f})\")\n",
        "    else:\n",
        "        print(\"No strong match. Suggest creating new KBA.\")\n",
        "\n",
        "    # Next 3 best matches (excluding the top match)\n",
        "    ranked_indices = sims.argsort()[::-1]\n",
        "    next_best_indices = ranked_indices[1:4]  # Skip top 1, take next 3\n",
        "\n",
        "    print(\"Next Best Matches:\")\n",
        "    for i in next_best_indices:\n",
        "        print(f\"   - {kbas.iloc[i]['Title']} (Score: {sims[i]:.2f})\")\n"
      ]
    }
  ]
}